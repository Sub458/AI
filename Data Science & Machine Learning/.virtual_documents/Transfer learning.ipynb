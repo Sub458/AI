import numpy as np
import matplotlib.pyplot as plt
import tensorflow as tf
import tensorflow_hub as hub
from PIL.Image import Image


classifier_url = r"https://tfhub.dev/google/tf2-preview/mobilenet_v2/classification/4"


imshape = (224,224,3)
classifier = tf.keras.Sequential([
    hub.KerasLayer(classifier_url,input_shape=imshape)
])



