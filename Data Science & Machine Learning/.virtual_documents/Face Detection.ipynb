import numpy as np
from PIL import Image
from mtcnn.mtcnn import MTCNN
from keras_vggface.vggface import VGGFace
from keras_vggface.utils import preprocess_input


print(keras.__version__)



