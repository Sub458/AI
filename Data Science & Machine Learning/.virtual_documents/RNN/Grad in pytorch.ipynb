import torch


a = torch.tensor([2.],requires_grad=True)
b = torch.tensor([8.],requires_grad=True)


y = 2*a**2 - 4*b**2


y.backward()


print(a.grad.data,b.grad.data)



