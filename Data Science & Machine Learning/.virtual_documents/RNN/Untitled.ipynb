import numpy as np
import pandas as pd
import matplotlib.pyplot as plt
import os


df = pd.read_csv(r"/home/subham/Deep learning/AI/mastering_recurrent_neural_networks/Data/Stock_price_prediction/Stocks/a.us.txt",delimiter=',',usecols=['Date','Open','High','Low','Close'])


df.head()


df = df.sort_values('Date')
df.head()


fig = plt.figure(figsize=(10,6))
plt.plot(range(df.shape[0]),df['Open'])
plt.xticks(range(0,df.shape[0],500),df['Date'].loc[::500],rotation=45)
plt.xlabel('Date',fontsize=20)
plt.ylabel('Stock price',fontsize = 20)
plt.show()


O = df.iloc[:,1:2].values


O.shape


Tr = O[:4000]
Te = O[4000:]


Tr.shape


Te.shape


from sklearn.preprocessing import MinMaxScaler
import tensorflow as tf
from tensorflow.keras.models import Sequential
from tensorflow.keras.layers import LSTM
from tensorflow.keras.layers import Dense
from tensorflow.keras.layers import Dropout


sc = MinMaxScaler(feature_range=(0,1))


tr_scaled = sc.fit_transform(Tr)
ts_scaled = sc.transform(Te)


seq_length = 100
X_train = []
y_train = []
for i in range(seq_length,len(tr_scaled)-seq_length):
    X_train.append(tr_scaled[i-seq_length:i,0])
    y_train.append(tr_scaled[i,0])


seq_length = 100
X_test = []
y_test = []
for i in range(seq_length,len(ts_scaled)-seq_length):
    X_test.append(ts_scaled[i-seq_length:i,0])
    y_test.append(ts_scaled[i,0])


X_train,y_train = np.array(X_train,dtype),np.array(y_train)


X_train


X_train = X_train[:,:,np.newaxis]


X_train.shape



