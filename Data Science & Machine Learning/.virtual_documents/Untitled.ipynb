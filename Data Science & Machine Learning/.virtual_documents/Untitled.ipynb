import numpy as np


# define a funtion that padds zeros in an Image 
# input : Image,padding size
def f_padds(I,p):
    nRows = I.shape[0]
    nCols = I.shape[1]
    zero_rows = np.zeros((p,nCols))
    O = np.vstack((zero_rows,I))
    O = np.vstack((O,zero_rows))
    zero_cols = np.zeros((nRows+2,p))
    O = np.hstack((zero_cols,O))
    O = np.hstack((O,zero_cols))
    return O


# define an Image (5,5) and add padding of size = 1
# hint : use randint to create image


# define a function of conv2D 
# input : Image , p , kerel size
def f_Conv2D(I,k,p):
    kSize = k.shape[0]
    S = f_padds(I,p)
    nRows = S.shape[0]
    nCols = S.shape[1]
    O = np.zeros((I.shape[0],I.shape[1]))
    for i in range(I.shape[0]):
        for j in range(I.shape[1]):
            P = S[i:i+kSize,j:j+kSize]
            O[i,j] = (P.flatten()*k.flatten()).sum()
    return O


# define activation using ReLU 
# func name is : f_ReLU
def f_ReLU(C):
    C[C<0] = 0
    return C


# define a pooling function which does 2x2 maxpooling
# name is f_pooling
def f_pooling(M):
    nRows = M.shape[0]
    nCols = M.shape[1]
    S = np.zeros((int(nRows/2),int(nCols/2)))
    for i in range(nRows-2):
        for j in range(nCols-2):
            S[i//2,j//2] = M[i:i+2,j:j+2].max()
    return S
            


# define kerenal of (3,3) of ones and bias (kernal.shape[0]/2)
# later define a bias also which has 5 random number
I = np.random.randint(1,5,(5,5))
k = np.ones((3,3))
p = int(k.shape[0]/2)
bias = np.random.randint(1,5,5)
O = f_Conv2D(I,k,p) +bias
C = f_ReLU(O)
C = f_pooling(C)
