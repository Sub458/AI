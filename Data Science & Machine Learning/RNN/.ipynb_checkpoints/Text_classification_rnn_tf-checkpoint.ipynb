{
 "cells": [
  {
   "cell_type": "code",
   "execution_count": 15,
   "id": "83245016-992d-460b-b1f8-59b7cf14cef4",
   "metadata": {},
   "outputs": [],
   "source": [
    "import tensorflow as tf\n",
    "import tensorflow_datasets as tfds"
   ]
  },
  {
   "cell_type": "code",
   "execution_count": 16,
   "id": "5ab49ddc-7539-44e9-9b42-3bafed817f3a",
   "metadata": {},
   "outputs": [
    {
     "name": "stdout",
     "output_type": "stream",
     "text": [
      "2.17.0\n"
     ]
    }
   ],
   "source": [
    "print(tf.__version__)"
   ]
  },
  {
   "cell_type": "code",
   "execution_count": 17,
   "id": "1e90d32b-b888-47b4-94b5-5393609a0f0a",
   "metadata": {},
   "outputs": [
    {
     "name": "stderr",
     "output_type": "stream",
     "text": [
      "WARNING:absl:TFDS datasets with text encoding are deprecated and will be removed in a future version. Instead, you should use the plain text version and tokenize the text using `tensorflow_text` (See: https://www.tensorflow.org/tutorials/tensorflow_text/intro#tfdata_example)\n"
     ]
    }
   ],
   "source": [
    "dataset,info = tfds.load('imdb_reviews/subwords8k',with_info=True,as_supervised=True)"
   ]
  },
  {
   "cell_type": "code",
   "execution_count": 18,
   "id": "757d03e9-6eb0-4e98-922a-49031db5e83e",
   "metadata": {},
   "outputs": [],
   "source": [
    "tD,vD = dataset['train'],dataset['test']"
   ]
  },
  {
   "cell_type": "code",
   "execution_count": 19,
   "id": "4a7d4072-6537-4aa1-bf5b-29c35aa994b1",
   "metadata": {},
   "outputs": [],
   "source": [
    "encoder = info.features['text'].encoder"
   ]
  },
  {
   "cell_type": "code",
   "execution_count": 20,
   "id": "f49a56e0-1968-4e70-b67d-8778d4ff821d",
   "metadata": {},
   "outputs": [],
   "source": [
    "tD = tD.shuffle(1000)\n",
    "tD = tD.padded_batch(50)\n",
    "vD = vD.padded_batch(50)"
   ]
  },
  {
   "cell_type": "code",
   "execution_count": 21,
   "id": "bb21db2f-3f83-488a-9738-a4d7b2162c16",
   "metadata": {},
   "outputs": [],
   "source": [
    "model = tf.keras.Sequential([\n",
    "    tf.keras.layers.Embedding(encoder.vocab_size,10),\n",
    "    tf.keras.layers.LSTM(12),\n",
    "    tf.keras.layers.Dense(5),\n",
    "    tf.keras.layers.Dense(1)\n",
    "])"
   ]
  },
  {
   "cell_type": "code",
   "execution_count": 22,
   "id": "ff83c10b-8187-49bb-92b4-e0552ff15768",
   "metadata": {},
   "outputs": [],
   "source": [
    "model.compile(loss=tf.keras.losses.BinaryCrossentropy(from_logits=True),optimizer=tf.keras.optimizers.Adam(1e-3),metrics=['accuracy'])"
   ]
  },
  {
   "cell_type": "code",
   "execution_count": 23,
   "id": "aa7e843e-f4fc-48e7-adcd-4b0b171bd1fc",
   "metadata": {},
   "outputs": [
    {
     "name": "stdout",
     "output_type": "stream",
     "text": [
      "Epoch 1/2\n",
      "\u001b[1m500/500\u001b[0m \u001b[32m━━━━━━━━━━━━━━━━━━━━\u001b[0m\u001b[37m\u001b[0m \u001b[1m69s\u001b[0m 134ms/step - accuracy: 0.5008 - loss: 0.6934 - val_accuracy: 0.4993 - val_loss: 0.6932\n",
      "Epoch 2/2\n",
      "\u001b[1m500/500\u001b[0m \u001b[32m━━━━━━━━━━━━━━━━━━━━\u001b[0m\u001b[37m\u001b[0m \u001b[1m69s\u001b[0m 138ms/step - accuracy: 0.4991 - loss: 0.6933 - val_accuracy: 0.4987 - val_loss: 0.6929\n"
     ]
    }
   ],
   "source": [
    "history = model.fit(tD,epochs=2,validation_data=vD,validation_steps=30)"
   ]
  },
  {
   "cell_type": "code",
   "execution_count": 24,
   "id": "77f128f5-9dcb-4d17-8e46-1be795755ee2",
   "metadata": {},
   "outputs": [
    {
     "name": "stdout",
     "output_type": "stream",
     "text": [
      "\u001b[1m500/500\u001b[0m \u001b[32m━━━━━━━━━━━━━━━━━━━━\u001b[0m\u001b[37m\u001b[0m \u001b[1m15s\u001b[0m 29ms/step - accuracy: 0.5022 - loss: 0.6932\n"
     ]
    }
   ],
   "source": [
    "vL,vA = model.evaluate(vD)"
   ]
  },
  {
   "cell_type": "code",
   "execution_count": 25,
   "id": "c3438ecd-7829-4a2c-befe-bced9fca884a",
   "metadata": {},
   "outputs": [
    {
     "name": "stdout",
     "output_type": "stream",
     "text": [
      "0.6931391954421997 0.5\n"
     ]
    }
   ],
   "source": [
    "print(vL,vA)"
   ]
  },
  {
   "cell_type": "code",
   "execution_count": null,
   "id": "28a807c4-e7a1-442d-ba07-576d77ead323",
   "metadata": {},
   "outputs": [],
   "source": []
  }
 ],
 "metadata": {
  "kernelspec": {
   "display_name": "Python 3 (ipykernel)",
   "language": "python",
   "name": "python3"
  },
  "language_info": {
   "codemirror_mode": {
    "name": "ipython",
    "version": 3
   },
   "file_extension": ".py",
   "mimetype": "text/x-python",
   "name": "python",
   "nbconvert_exporter": "python",
   "pygments_lexer": "ipython3",
   "version": "3.9.19"
  }
 },
 "nbformat": 4,
 "nbformat_minor": 5
}
