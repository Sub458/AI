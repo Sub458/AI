{
 "cells": [
  {
   "cell_type": "code",
   "execution_count": 2,
   "id": "e7a27612-53bc-4772-8714-738bd3cab23b",
   "metadata": {},
   "outputs": [],
   "source": [
    "import numpy as np\n",
    "import torch\n",
    "import torch.nn.functional as F\n",
    "import sys"
   ]
  },
  {
   "cell_type": "code",
   "execution_count": 3,
   "id": "edf55170-169a-4c3d-89eb-2e0b522534a5",
   "metadata": {},
   "outputs": [],
   "source": [
    "inputString = [2,45,30,55,10]\n",
    "outString = [25,30,55,10,1]"
   ]
  },
  {
   "cell_type": "code",
   "execution_count": 4,
   "id": "b26c2023-226d-40b3-9188-c19d91a39ba8",
   "metadata": {},
   "outputs": [],
   "source": [
    "numFeatures = 100\n",
    "vocabSize = 80"
   ]
  },
  {
   "cell_type": "code",
   "execution_count": 11,
   "id": "727f446d-cbbb-4d77-8340-1ce5145b03aa",
   "metadata": {},
   "outputs": [],
   "source": [
    "#define embedding for each input vector of size (100,1) random numbers\n",
    "embedding = []\n",
    "\n",
    "    for i  in range(len(inputString)):\n",
    "        a = np.random.randint((numFeatures,1))\n",
    "        embedding.append(a)\n",
    "    "
   ]
  },
  {
   "cell_type": "code",
   "execution_count": 12,
   "id": "4cd4ebb4-4e6a-42cf-b0ab-0b15f4d27ea3",
   "metadata": {},
   "outputs": [
    {
     "data": {
      "text/plain": [
       "[array([7, 0]),\n",
       " array([1, 0]),\n",
       " array([43,  0]),\n",
       " array([70,  0]),\n",
       " array([79,  0])]"
      ]
     },
     "execution_count": 12,
     "metadata": {},
     "output_type": "execute_result"
    }
   ],
   "source": [
    "get_embedding()"
   ]
  },
  {
   "cell_type": "code",
   "execution_count": 6,
   "id": "562b724d-92a3-4876-8675-6618573b675a",
   "metadata": {},
   "outputs": [],
   "source": [
    "# define the one hot encoding of vocab size"
   ]
  },
  {
   "cell_type": "code",
   "execution_count": null,
   "id": "3001402c-9df8-4ffa-b601-06e6e0dd798b",
   "metadata": {},
   "outputs": [],
   "source": []
  }
 ],
 "metadata": {
  "kernelspec": {
   "display_name": "Python 3 (ipykernel)",
   "language": "python",
   "name": "python3"
  },
  "language_info": {
   "codemirror_mode": {
    "name": "ipython",
    "version": 3
   },
   "file_extension": ".py",
   "mimetype": "text/x-python",
   "name": "python",
   "nbconvert_exporter": "python",
   "pygments_lexer": "ipython3",
   "version": "3.9.19"
  }
 },
 "nbformat": 4,
 "nbformat_minor": 5
}
