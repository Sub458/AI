{
 "cells": [
  {
   "cell_type": "code",
   "execution_count": 50,
   "id": "664d78c4-9b8f-4ff8-b2d2-9a17220d37cf",
   "metadata": {},
   "outputs": [],
   "source": [
    "import numpy as np\n",
    "import pandas as pd\n",
    "import torch\n",
    "import sys\n",
    "import string\n",
    "from collections import Counter"
   ]
  },
  {
   "cell_type": "code",
   "execution_count": 51,
   "id": "22e2d668-e3d4-4f8c-a0d8-828d131b8ecc",
   "metadata": {},
   "outputs": [],
   "source": [
    "vocab = {}"
   ]
  },
  {
   "cell_type": "code",
   "execution_count": 52,
   "id": "8dff855b-6ec7-4380-97bc-03b3a16384c6",
   "metadata": {
    "editable": true,
    "slideshow": {
     "slide_type": ""
    },
    "tags": []
   },
   "outputs": [],
   "source": [
    "def addToken(token):\n",
    "    if token in vocab['t_2_i']:\n",
    "        idx =  vocab['t_2_i'][token]\n",
    "    else:\n",
    "        idx = len(vocab['t_2_i'])\n",
    "        vocab['t_2_i'][token] = idx\n",
    "        vocab['i_2_t'][idx] = token\n",
    "    return idx"
   ]
  },
  {
   "cell_type": "code",
   "execution_count": 53,
   "id": "59409615-57f7-4562-9c27-3f44c2553982",
   "metadata": {
    "editable": true,
    "slideshow": {
     "slide_type": ""
    },
    "tags": []
   },
   "outputs": [],
   "source": [
    "def initializeVocabulary():\n",
    "    unkToken = '<UNK>'\n",
    "    vocab['t_2_i'] = {}\n",
    "    vocab['i_2_t'] = {}\n",
    "    idx = addToken(unkToken)\n",
    "    vocab['addUnk'] = True\n",
    "    vocab['unkToken'] = unkToken\n",
    "    vocab['unkTokenIdx'] = idx"
   ]
  },
  {
   "cell_type": "code",
   "execution_count": 54,
   "id": "938d4696-39d6-4c6f-bcb1-c22113d50a43",
   "metadata": {},
   "outputs": [],
   "source": [
    "def addManyTokens(tokens):\n",
    "    idexs = [addToken(token) for token in tokens]\n",
    "    return idexs"
   ]
  },
  {
   "cell_type": "code",
   "execution_count": 55,
   "id": "6a5b7279-1e7a-4f64-bfab-41867de46e3b",
   "metadata": {},
   "outputs": [],
   "source": [
    "def lookuptoken(token):\n",
    "    if vocab['unkTokenIdx'] >= 0:\n",
    "        return vocab['t_2_i'].get(token,vocab['unkTokenIdx'])\n",
    "    else:\n",
    "        return vocab['t_2_i'][token]"
   ]
  },
  {
   "cell_type": "code",
   "execution_count": 56,
   "id": "4ce77d23-68c4-496f-b5f2-40e9d8b75fd4",
   "metadata": {},
   "outputs": [],
   "source": [
    "def lookupidx(idx):\n",
    "    if idx not in vocab['i_2_t']:\n",
    "        raise keyError(\"the index (%d) is not there\" %(idx))\n",
    "    return vocab['i_2_t'][idx]"
   ]
  },
  {
   "cell_type": "code",
   "execution_count": 57,
   "id": "2a19f75a-421e-450f-bca0-c652e895a0d5",
   "metadata": {},
   "outputs": [],
   "source": [
    "# if cutoff in not more than 25 than don't add in vocabulary\n",
    "def vocabularyFromDataFrame(df,cutoff=25):\n",
    "    initializeVocabulary()\n",
    "    wordCounts = Counter()\n",
    "    for i in df.review:\n",
    "        for word in i.split(\" \"):\n",
    "            if word not in string.punctuation:\n",
    "                wordCounts[word] += 1\n",
    "    for word,count in wordCounts.items():\n",
    "        if count > cutoff:\n",
    "            addToken(word)"
   ]
  },
  {
   "cell_type": "code",
   "execution_count": 58,
   "id": "c9e45666-a424-4ce4-9d56-c5482d158439",
   "metadata": {},
   "outputs": [],
   "source": [
    "df = pd.read_csv(r\"C:\\Users\\Sub\\CodeSpace\\AI\\mastering_recurrent_neural_networks\\Data\\reviews.csv\")"
   ]
  },
  {
   "cell_type": "code",
   "execution_count": 59,
   "id": "27850a6b-e470-41a0-b0fb-ce846a65a0b1",
   "metadata": {},
   "outputs": [],
   "source": [
    "vocabularyFromDataFrame(df)"
   ]
  },
  {
   "cell_type": "code",
   "execution_count": 60,
   "id": "1c4285cf-999f-49aa-bc73-e0e162280b70",
   "metadata": {},
   "outputs": [
    {
     "data": {
      "text/plain": [
       "128"
      ]
     },
     "execution_count": 60,
     "metadata": {},
     "output_type": "execute_result"
    }
   ],
   "source": [
    "lookuptoken('this')"
   ]
  },
  {
   "cell_type": "code",
   "execution_count": 61,
   "id": "03fbae98-5df3-476d-8bca-cda44b50ba12",
   "metadata": {},
   "outputs": [
    {
     "data": {
      "text/plain": [
       "'this'"
      ]
     },
     "execution_count": 61,
     "metadata": {},
     "output_type": "execute_result"
    }
   ],
   "source": [
    "lookupidx(128)"
   ]
  },
  {
   "cell_type": "code",
   "execution_count": 65,
   "id": "f3ff6b6c-42d4-4466-a2a4-56e2410f0550",
   "metadata": {},
   "outputs": [],
   "source": [
    "def vectorize(review):\n",
    "    isFirst = True\n",
    "    for token in review.split(\" \"):\n",
    "        if token not in string.punctuation:\n",
    "            oneHot = np.zeros((len(vocab['t_2_i']),1))\n",
    "            print(oneHot.shape)\n",
    "            print(token)\n",
    "            print(lookuptoken[token])\n",
    "            oneHot[lookuptoken[token]] = 1\n",
    "        if isFirst:\n",
    "            xF = oneHot\n",
    "            isFirst = False\n",
    "        else:\n",
    "            xF = np.hstack((xF,oneHot))\n",
    "    return xF"
   ]
  },
  {
   "cell_type": "code",
   "execution_count": 66,
   "id": "3f05ada2-c66e-4ab6-a3f0-700ccc49df30",
   "metadata": {},
   "outputs": [
    {
     "name": "stdout",
     "output_type": "stream",
     "text": [
      "(8945, 1)\n",
      "terrible\n"
     ]
    },
    {
     "ename": "TypeError",
     "evalue": "'function' object is not subscriptable",
     "output_type": "error",
     "traceback": [
      "\u001b[1;31m---------------------------------------------------------------------------\u001b[0m",
      "\u001b[1;31mTypeError\u001b[0m                                 Traceback (most recent call last)",
      "Cell \u001b[1;32mIn[66], line 1\u001b[0m\n\u001b[1;32m----> 1\u001b[0m xF \u001b[38;5;241m=\u001b[39m \u001b[43mvectorize\u001b[49m\u001b[43m(\u001b[49m\u001b[43mdf\u001b[49m\u001b[43m[\u001b[49m\u001b[38;5;124;43m'\u001b[39;49m\u001b[38;5;124;43mreview\u001b[39;49m\u001b[38;5;124;43m'\u001b[39;49m\u001b[43m]\u001b[49m\u001b[43m[\u001b[49m\u001b[38;5;241;43m0\u001b[39;49m\u001b[43m]\u001b[49m\u001b[43m)\u001b[49m\n",
      "Cell \u001b[1;32mIn[65], line 8\u001b[0m, in \u001b[0;36mvectorize\u001b[1;34m(review)\u001b[0m\n\u001b[0;32m      6\u001b[0m     \u001b[38;5;28mprint\u001b[39m(oneHot\u001b[38;5;241m.\u001b[39mshape)\n\u001b[0;32m      7\u001b[0m     \u001b[38;5;28mprint\u001b[39m(token)\n\u001b[1;32m----> 8\u001b[0m     \u001b[38;5;28mprint\u001b[39m(\u001b[43mlookuptoken\u001b[49m\u001b[43m[\u001b[49m\u001b[43mtoken\u001b[49m\u001b[43m]\u001b[49m)\n\u001b[0;32m      9\u001b[0m     oneHot[lookuptoken[token]] \u001b[38;5;241m=\u001b[39m \u001b[38;5;241m1\u001b[39m\n\u001b[0;32m     10\u001b[0m \u001b[38;5;28;01mif\u001b[39;00m isFirst:\n",
      "\u001b[1;31mTypeError\u001b[0m: 'function' object is not subscriptable"
     ]
    }
   ],
   "source": [
    "xF = vectorize(df['review'][0])"
   ]
  },
  {
   "cell_type": "code",
   "execution_count": null,
   "id": "03ecf855-0be7-483d-8029-20b827257984",
   "metadata": {},
   "outputs": [],
   "source": []
  }
 ],
 "metadata": {
  "kernelspec": {
   "display_name": "Python 3 (ipykernel)",
   "language": "python",
   "name": "python3"
  },
  "language_info": {
   "codemirror_mode": {
    "name": "ipython",
    "version": 3
   },
   "file_extension": ".py",
   "mimetype": "text/x-python",
   "name": "python",
   "nbconvert_exporter": "python",
   "pygments_lexer": "ipython3",
   "version": "3.9.19"
  },
  "toc": {
   "base_numbering": 7
  }
 },
 "nbformat": 4,
 "nbformat_minor": 5
}
