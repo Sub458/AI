{
 "cells": [
  {
   "cell_type": "code",
   "execution_count": 1,
   "id": "6ddfb31e-ba27-4bff-9905-625b764e1097",
   "metadata": {},
   "outputs": [],
   "source": [
    "import torch"
   ]
  },
  {
   "cell_type": "code",
   "execution_count": 6,
   "id": "11502d67-1360-459d-a996-808246e7398b",
   "metadata": {},
   "outputs": [],
   "source": [
    "a = torch.tensor([2.],requires_grad=True)\n",
    "b = torch.tensor([8.],requires_grad=True)"
   ]
  },
  {
   "cell_type": "code",
   "execution_count": 7,
   "id": "af3a648d-eea6-438e-98a9-7afbbbbe4058",
   "metadata": {},
   "outputs": [],
   "source": [
    "y = 2*a**2 - 4*b**2"
   ]
  },
  {
   "cell_type": "code",
   "execution_count": 8,
   "id": "157f283e-dd94-44f8-bac9-e046b557f6a5",
   "metadata": {},
   "outputs": [],
   "source": [
    "y.backward()"
   ]
  },
  {
   "cell_type": "code",
   "execution_count": 9,
   "id": "50079b55-ee7a-4970-a934-2bfea3b68205",
   "metadata": {},
   "outputs": [
    {
     "name": "stdout",
     "output_type": "stream",
     "text": [
      "tensor([8.]) tensor([-64.])\n"
     ]
    }
   ],
   "source": [
    "print(a.grad.data,b.grad.data)"
   ]
  },
  {
   "cell_type": "code",
   "execution_count": null,
   "id": "d42103ae-1c8a-4759-8982-a6b888cdaa94",
   "metadata": {},
   "outputs": [],
   "source": []
  }
 ],
 "metadata": {
  "kernelspec": {
   "display_name": "Python 3 (ipykernel)",
   "language": "python",
   "name": "python3"
  },
  "language_info": {
   "codemirror_mode": {
    "name": "ipython",
    "version": 3
   },
   "file_extension": ".py",
   "mimetype": "text/x-python",
   "name": "python",
   "nbconvert_exporter": "python",
   "pygments_lexer": "ipython3",
   "version": "3.9.19"
  }
 },
 "nbformat": 4,
 "nbformat_minor": 5
}
