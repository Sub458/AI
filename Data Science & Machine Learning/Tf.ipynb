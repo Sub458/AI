{
 "cells": [
  {
   "cell_type": "code",
   "execution_count": 1,
   "id": "749a39b8-0571-4920-8c8c-3788bcfc6a1f",
   "metadata": {},
   "outputs": [],
   "source": [
    "import tensorflow as tf\n",
    "import numpy as np\n",
    "import matplotlib.pyplot as plt\n",
    "import pandas as pd"
   ]
  },
  {
   "cell_type": "code",
   "execution_count": 2,
   "id": "8f36c35c-f295-4c3c-acfb-85080e791a73",
   "metadata": {},
   "outputs": [],
   "source": [
    "fm = tf.keras.datasets.fashion_mnist\n",
    "(Xtr,ytr),(Xtst,ytst) = fm.load_data()"
   ]
  },
  {
   "cell_type": "code",
   "execution_count": 4,
   "id": "f7950db2-095c-4f30-b434-2947a4ee4143",
   "metadata": {},
   "outputs": [
    {
     "data": {
      "text/plain": [
       "(60000, 28, 28)"
      ]
     },
     "execution_count": 4,
     "metadata": {},
     "output_type": "execute_result"
    }
   ],
   "source": [
    "Xtr.shape"
   ]
  },
  {
   "cell_type": "code",
   "execution_count": 7,
   "id": "2d24383b-c10e-4ac5-851d-588b77264c93",
   "metadata": {},
   "outputs": [
    {
     "data": {
      "text/plain": [
       "array([0, 1, 2, 3, 4, 5, 6, 7, 8, 9], dtype=uint8)"
      ]
     },
     "execution_count": 7,
     "metadata": {},
     "output_type": "execute_result"
    }
   ],
   "source": [
    "np.unique(ytr)"
   ]
  },
  {
   "cell_type": "code",
   "execution_count": 8,
   "id": "f77bc016-e22c-4223-94b1-1e4c60bb6e72",
   "metadata": {},
   "outputs": [],
   "source": [
    "cn = ['T-shirt','Trouser','Pullover','Dress','Coat','Sandal','Shirt','Sneaker','Bag','Ankel Boot']"
   ]
  },
  {
   "cell_type": "code",
   "execution_count": 16,
   "id": "d0594d54-d3b3-45b1-bc58-6b69ef191857",
   "metadata": {},
   "outputs": [
    {
     "data": {
      "image/png": "[encoded data removed]",
      "text/plain": [
       "<Figure size 1000x600 with 1 Axes>"
      ]
     },
     "metadata": {},
     "output_type": "display_data"
    }
   ],
   "source": [
    "plt.figure(figsize=(10,6))\n",
    "plt.imshow(Xtr[0],cmap=plt.cm.bone)\n",
    "plt.title(cn[ytr[0]])\n",
    "plt.show()"
   ]
  },
  {
   "cell_type": "code",
   "execution_count": 17,
   "id": "d8c7733c-7b33-4243-be8d-5e5c812eea4c",
   "metadata": {},
   "outputs": [],
   "source": [
    "# Normalize the datasets\n",
    "Xtr = Xtr/255.0\n",
    "Xtst = Xtst/255.0"
   ]
  },
  {
   "cell_type": "code",
   "execution_count": 19,
   "id": "cbafb17b-556c-4a03-801e-08d8ba25fcfa",
   "metadata": {},
   "outputs": [],
   "source": [
    "nnModel = tf.keras.Sequential([\n",
    "    tf.keras.layers.Flatten(input_shape=(28,28)),\n",
    "    tf.keras.layers.Dense(100,activation='relu'),\n",
    "    tf.keras.layers.Dropout(0.2),\n",
    "    tf.keras.layers.Dense(200,activation='relu'),\n",
    "    tf.keras.layers.Dropout(0.1),\n",
    "    tf.keras.layers.Dense(10)\n",
    "])"
   ]
  },
  {
   "cell_type": "code",
   "execution_count": 22,
   "id": "83a766fa-a4ef-4ac7-b9e9-80b2e237cd58",
   "metadata": {},
   "outputs": [],
   "source": [
    "nnModel.compile(optimizer='adam',loss=tf.keras.losses.SparseCategoricalCrossentropy(from_logits='True'),metrics=['accuracy'])"
   ]
  },
  {
   "cell_type": "code",
   "execution_count": 23,
   "id": "54243033-82b6-447c-bb32-ada3fbd3a17a",
   "metadata": {
    "scrolled": true
   },
   "outputs": [
    {
     "name": "stdout",
     "output_type": "stream",
     "text": [
      "Epoch 1/10\n",
      "1875/1875 [==============================] - 8s 1ms/step - loss: 0.5412 - accuracy: 0.8040\n",
      "Epoch 2/10\n",
      "1875/1875 [==============================] - 3s 1ms/step - loss: 0.4136 - accuracy: 0.8509\n",
      "Epoch 3/10\n",
      "1875/1875 [==============================] - 3s 1ms/step - loss: 0.3808 - accuracy: 0.8619\n",
      "Epoch 4/10\n",
      "1875/1875 [==============================] - 3s 1ms/step - loss: 0.3615 - accuracy: 0.8674\n",
      "Epoch 5/10\n",
      "1875/1875 [==============================] - 3s 1ms/step - loss: 0.3425 - accuracy: 0.8736\n",
      "Epoch 6/10\n",
      "1875/1875 [==============================] - 3s 1ms/step - loss: 0.3315 - accuracy: 0.8769\n",
      "Epoch 7/10\n",
      "1875/1875 [==============================] - 3s 1ms/step - loss: 0.3215 - accuracy: 0.8799\n",
      "Epoch 8/10\n",
      "1875/1875 [==============================] - 3s 1ms/step - loss: 0.3135 - accuracy: 0.8845\n",
      "Epoch 9/10\n",
      "1875/1875 [==============================] - 3s 1ms/step - loss: 0.3074 - accuracy: 0.8861\n",
      "Epoch 10/10\n",
      "1875/1875 [==============================] - 3s 1ms/step - loss: 0.3005 - accuracy: 0.8881\n"
     ]
    },
    {
     "data": {
      "text/plain": [
       "<keras.callbacks.History at 0x21190f528b0>"
      ]
     },
     "execution_count": 23,
     "metadata": {},
     "output_type": "execute_result"
    }
   ],
   "source": [
    "nnModel.fit(Xtr,ytr,epochs=10)"
   ]
  },
  {
   "cell_type": "code",
   "execution_count": 29,
   "id": "f22a1a7b-8270-468c-8b0c-3cfe5bf63b8e",
   "metadata": {},
   "outputs": [],
   "source": [
    "nnModel = tf.keras.Sequential([nnModel,tf.keras.layers.Softmax()])"
   ]
  },
  {
   "cell_type": "code",
   "execution_count": 30,
   "id": "51b16b49-701e-4abc-91cc-d6bc49c12d3d",
   "metadata": {},
   "outputs": [
    {
     "name": "stdout",
     "output_type": "stream",
     "text": [
      "313/313 [==============================] - 0s 710us/step\n"
     ]
    }
   ],
   "source": [
    "y_pred = nnModel.predict(Xtst)"
   ]
  },
  {
   "cell_type": "code",
   "execution_count": 47,
   "id": "cea41127-b266-4da8-9256-c55cab5d7afa",
   "metadata": {},
   "outputs": [
    {
     "data": {
      "image/png": "[encoded data removed]",
      "text/plain": [
       "<Figure size 1000x600 with 1 Axes>"
      ]
     },
     "metadata": {},
     "output_type": "display_data"
    },
    {
     "name": "stdout",
     "output_type": "stream",
     "text": [
      "Predicted label : Ankel Boot Actual label : Ankel Boot\n"
     ]
    }
   ],
   "source": [
    "i = 28\n",
    "fig = plt.figure(figsize=(10,6))\n",
    "plt.imshow(Xtst[i],cmap=plt.cm.gray)\n",
    "plt.xticks([])\n",
    "plt.yticks([])\n",
    "plt.show()\n",
    "print(f'Predicted label : {cn[np.argmax(y_pred[i])]} Actual label : {cn[ytst[i]]}')"
   ]
  },
  {
   "cell_type": "code",
   "execution_count": null,
   "id": "fc9c1d78-b4b2-466e-af18-6a9c6a7ab589",
   "metadata": {},
   "outputs": [],
   "source": []
  }
 ],
 "metadata": {
  "kernelspec": {
   "display_name": "Python 3 (ipykernel)",
   "language": "python",
   "name": "python3"
  },
  "language_info": {
   "codemirror_mode": {
    "name": "ipython",
    "version": 3
   },
   "file_extension": ".py",
   "mimetype": "text/x-python",
   "name": "python",
   "nbconvert_exporter": "python",
   "pygments_lexer": "ipython3",
   "version": "3.9.19"
  }
 },
 "nbformat": 4,
 "nbformat_minor": 5
}
