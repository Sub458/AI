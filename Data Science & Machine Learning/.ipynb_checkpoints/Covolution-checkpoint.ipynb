{
 "cells": [
  {
   "cell_type": "code",
   "execution_count": 8,
   "id": "2e70624c-bf8b-4bd2-92ba-2f53f3877c41",
   "metadata": {},
   "outputs": [],
   "source": [
    "import numpy as np"
   ]
  },
  {
   "cell_type": "code",
   "execution_count": 9,
   "id": "5f20b17d-d7d2-4755-93f9-234ad840a0de",
   "metadata": {},
   "outputs": [],
   "source": [
    "# define a funtion that padds zeros in an Image \n",
    "# input : Image,padding size\n",
    "def f_padds(I,p):\n",
    "    nRows = I.shape[0]\n",
    "    nCols = I.shape[1]\n",
    "    zero_rows = np.zeros((p,nCols))\n",
    "    O = np.vstack((zero_rows,I))\n",
    "    O = np.vstack((O,zero_rows))\n",
    "    zero_cols = np.zeros((nRows+2*p,p))\n",
    "    O = np.hstack((zero_cols,O))\n",
    "    O = np.hstack((O,zero_cols))\n",
    "    return O"
   ]
  },
  {
   "cell_type": "code",
   "execution_count": 10,
   "id": "e32dc64f-2bc8-404d-bb01-a8e3f33bb0c3",
   "metadata": {},
   "outputs": [],
   "source": [
    "# define an Image (5,5) and add padding of size = 1\n",
    "# hint : use randint to create image"
   ]
  },
  {
   "cell_type": "code",
   "execution_count": 11,
   "id": "dffc9228-2373-4272-b08d-696ecc6faa70",
   "metadata": {},
   "outputs": [],
   "source": [
    "# define a function of conv2D \n",
    "# input : Image , p , kerel size\n",
    "def f_Conv2D(I,k,p):\n",
    "    kSize = k.shape[0]\n",
    "    S = f_padds(I,p)\n",
    "    nRows = S.shape[0]\n",
    "    nCols = S.shape[1]\n",
    "    O = np.zeros((I.shape[0],I.shape[1]))\n",
    "    for i in range(nRows-kSize+1):\n",
    "        for j in range(nCols-kSize+1):\n",
    "            P = S[i:i+kSize,j:j+kSize]\n",
    "            O[i,j] = (P.flatten()*k.flatten()).sum()\n",
    "    return O"
   ]
  },
  {
   "cell_type": "code",
   "execution_count": 12,
   "id": "b4e5723d-7378-43cd-a491-2253bdda8cc8",
   "metadata": {},
   "outputs": [],
   "source": [
    "# define activation using ReLU \n",
    "# func name is : f_ReLU\n",
    "def f_ReLU(C):\n",
    "    C[C<0] = 0\n",
    "    return C"
   ]
  },
  {
   "cell_type": "code",
   "execution_count": 13,
   "id": "5363e409-6af0-43b3-84a8-aaac4b9034f3",
   "metadata": {},
   "outputs": [],
   "source": [
    "# define a pooling function which does 2x2 maxpooling\n",
    "# name is f_pooling\n",
    "def f_pooling(M):\n",
    "    nRows = M.shape[0]\n",
    "    nCols = M.shape[1]\n",
    "    S = np.zeros((int(nRows/2),int(nCols/2)))\n",
    "    for i in range(nRows-1):\n",
    "        for j in range(nCols-1):\n",
    "            S[i//2,j//2] = M[i:i+2,j:j+2].max()\n",
    "    return S\n",
    "            "
   ]
  },
  {
   "cell_type": "code",
   "execution_count": 18,
   "id": "c78924dd-334b-4c3f-b130-b334dd7714c3",
   "metadata": {},
   "outputs": [],
   "source": [
    "# define kerenal of (3,3) of ones and bias (kernal.shape[0]/2)\n",
    "# later define a bias also which has 5 random number\n",
    "I = np.random.randint(1,5,(10,10))\n",
    "k = np.ones((5,5))\n",
    "p = int(k.shape[0]/2)\n",
    "bias = np.random.randint(1,5,10)\n",
    "O = f_Conv2D(I,k,p) +bias\n",
    "C = f_ReLU(O)\n",
    "C = f_pooling(C)"
   ]
  },
  {
   "cell_type": "code",
   "execution_count": 19,
   "id": "7cb7434e-77a7-4ba5-89d7-f2dd49927d63",
   "metadata": {},
   "outputs": [
    {
     "data": {
      "text/plain": [
       "array([[63., 58., 59., 60., 51.],\n",
       "       [69., 67., 60., 57., 48.],\n",
       "       [68., 66., 67., 65., 53.],\n",
       "       [67., 66., 63., 59., 49.],\n",
       "       [51., 52., 51., 50., 42.]])"
      ]
     },
     "execution_count": 19,
     "metadata": {},
     "output_type": "execute_result"
    }
   ],
   "source": [
    "C"
   ]
  },
  {
   "cell_type": "code",
   "execution_count": 20,
   "id": "8197b987-05a3-49bc-ba5d-5a7db7c72b58",
   "metadata": {},
   "outputs": [
    {
     "data": {
      "text/plain": [
       "array([[26., 33., 39., 35., 33., 30., 33., 32., 28., 27.],\n",
       "       [33., 41., 50., 48., 47., 44., 50., 50., 42., 38.],\n",
       "       [42., 52., 63., 58., 57., 53., 59., 60., 51., 44.],\n",
       "       [45., 56., 69., 67., 64., 58., 60., 57., 47., 40.],\n",
       "       [44., 54., 68., 64., 63., 58., 60., 57., 48., 39.],\n",
       "       [42., 51., 65., 64., 65., 62., 67., 65., 53., 42.],\n",
       "       [42., 53., 68., 66., 66., 63., 65., 59., 49., 38.],\n",
       "       [41., 53., 67., 65., 66., 63., 63., 59., 49., 39.],\n",
       "       [32., 41., 51., 49., 52., 49., 51., 50., 42., 33.],\n",
       "       [23., 31., 39., 39., 42., 40., 40., 37., 31., 25.]])"
      ]
     },
     "execution_count": 20,
     "metadata": {},
     "output_type": "execute_result"
    }
   ],
   "source": [
    "O"
   ]
  },
  {
   "cell_type": "code",
   "execution_count": null,
   "id": "c96b22d5-3498-4cc2-b646-4435ce8bf8a4",
   "metadata": {},
   "outputs": [],
   "source": []
  }
 ],
 "metadata": {
  "kernelspec": {
   "display_name": "Python 3 (ipykernel)",
   "language": "python",
   "name": "python3"
  },
  "language_info": {
   "codemirror_mode": {
    "name": "ipython",
    "version": 3
   },
   "file_extension": ".py",
   "mimetype": "text/x-python",
   "name": "python",
   "nbconvert_exporter": "python",
   "pygments_lexer": "ipython3",
   "version": "3.9.19"
  }
 },
 "nbformat": 4,
 "nbformat_minor": 5
}
