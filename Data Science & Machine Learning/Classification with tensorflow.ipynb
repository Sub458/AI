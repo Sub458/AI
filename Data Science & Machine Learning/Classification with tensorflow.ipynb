{
 "cells": [
  {
   "cell_type": "code",
   "execution_count": 82,
   "id": "14536166",
   "metadata": {},
   "outputs": [],
   "source": [
    "import matplotlib.pyplot as plt\n",
    "import pandas as pd\n",
    "import numpy as np\n",
    "import tensorflow as tf\n",
    "from tensorflow.keras import layers\n",
    "from sklearn.model_selection import train_test_split\n",
    "from sklearn.preprocessing import StandardScaler"
   ]
  },
  {
   "cell_type": "code",
   "execution_count": 83,
   "id": "42c37e29",
   "metadata": {},
   "outputs": [
    {
     "name": "stdout",
     "output_type": "stream",
     "text": [
      "2.10.0\n"
     ]
    }
   ],
   "source": [
    "print(tf.__version__)"
   ]
  },
  {
   "cell_type": "code",
   "execution_count": 84,
   "id": "f7e760fe",
   "metadata": {},
   "outputs": [
    {
     "name": "stdout",
     "output_type": "stream",
     "text": [
      "1 Physical GPUs, 1 Logical GPUs\n"
     ]
    }
   ],
   "source": [
    "gpus = tf.config.list_physical_devices('GPU')\n",
    "if gpus:\n",
    "  try:\n",
    "    # Currently, memory growth needs to be the same across GPUs\n",
    "    for gpu in gpus:\n",
    "      tf.config.experimental.set_memory_growth(gpu, True)\n",
    "    logical_gpus = tf.config.list_logical_devices('GPU')\n",
    "    print(len(gpus), \"Physical GPUs,\", len(logical_gpus), \"Logical GPUs\")\n",
    "  except RuntimeError as e:\n",
    "    # Memory growth must be set before GPUs have been initialized\n",
    "    print(e)"
   ]
  },
  {
   "cell_type": "code",
   "execution_count": 85,
   "id": "2d71c66f",
   "metadata": {},
   "outputs": [],
   "source": [
    "titanic = pd.read_csv(r\"C:\\My space\\AI\\dnn-python-from-scratch\\final_dataset.csv\")\n",
    "dataset = titanic.copy()\n",
    "X = np.asarray(dataset.drop('Survived',axis=1))\n",
    "y = np.asarray(dataset['Survived'])"
   ]
  },
  {
   "cell_type": "code",
   "execution_count": 86,
   "id": "8eace71a",
   "metadata": {},
   "outputs": [],
   "source": [
    "X_train,X_test,y_train,y_test = train_test_split(X,y,test_size=0.2,shuffle=True,random_state=0)"
   ]
  },
  {
   "cell_type": "code",
   "execution_count": 87,
   "id": "192fc1b1",
   "metadata": {},
   "outputs": [],
   "source": [
    "sc = StandardScaler()\n",
    "X_trainNormalized = sc.fit_transform(X_train)\n",
    "X_testNormalized = sc.transform(X_test)"
   ]
  },
  {
   "cell_type": "code",
   "execution_count": 88,
   "id": "ffa2b14d",
   "metadata": {},
   "outputs": [],
   "source": [
    "numDims = X_trainNormalized.shape[1]\n",
    "dnnModel = tf.keras.Sequential([\n",
    "    layers.Dense(16,activation='relu',input_shape=(numDims,)),\n",
    "    layers.BatchNormalization(),\n",
    "    layers.Dropout(0.3),\n",
    "    layers.Dense(16,activation='relu'),\n",
    "    layers.BatchNormalization(),\n",
    "    layers.Dropout(0.3),\n",
    "    layers.Dense(126,activation='relu'),\n",
    "    layers.BatchNormalization(),\n",
    "    layers.Dropout(0.5),\n",
    "    layers.Dense(160,activation='relu'),\n",
    "    layers.BatchNormalization(),\n",
    "    layers.Dropout(0.5),\n",
    "    layers.Dense(10,activation='relu'),\n",
    "    layers.Dropout(0.2),\n",
    "    layers.BatchNormalization(),\n",
    "    layers.Dense(2)\n",
    "])\n",
    "\n",
    "optimizer = tf.keras.optimizers.Adam(learning_rate=0.001)\n",
    "dnnModel.compile(optimizer=optimizer,loss=tf.keras.losses.SparseCategoricalCrossentropy(from_logits=True),metrics=['Accuracy'])"
   ]
  },
  {
   "cell_type": "code",
   "execution_count": 89,
   "id": "373f9e60",
   "metadata": {},
   "outputs": [
    {
     "name": "stdout",
     "output_type": "stream",
     "text": [
      "Model: \"sequential_2\"\n",
      "_________________________________________________________________\n",
      " Layer (type)                Output Shape              Param #   \n",
      "=================================================================\n",
      " dense_12 (Dense)            (None, 16)                208       \n",
      "                                                                 \n",
      " batch_normalization_10 (Bat  (None, 16)               64        \n",
      " chNormalization)                                                \n",
      "                                                                 \n",
      " dropout_10 (Dropout)        (None, 16)                0         \n",
      "                                                                 \n",
      " dense_13 (Dense)            (None, 16)                272       \n",
      "                                                                 \n",
      " batch_normalization_11 (Bat  (None, 16)               64        \n",
      " chNormalization)                                                \n",
      "                                                                 \n",
      " dropout_11 (Dropout)        (None, 16)                0         \n",
      "                                                                 \n",
      " dense_14 (Dense)            (None, 126)               2142      \n",
      "                                                                 \n",
      " batch_normalization_12 (Bat  (None, 126)              504       \n",
      " chNormalization)                                                \n",
      "                                                                 \n",
      " dropout_12 (Dropout)        (None, 126)               0         \n",
      "                                                                 \n",
      " dense_15 (Dense)            (None, 160)               20320     \n",
      "                                                                 \n",
      " batch_normalization_13 (Bat  (None, 160)              640       \n",
      " chNormalization)                                                \n",
      "                                                                 \n",
      " dropout_13 (Dropout)        (None, 160)               0         \n",
      "                                                                 \n",
      " dense_16 (Dense)            (None, 10)                1610      \n",
      "                                                                 \n",
      " dropout_14 (Dropout)        (None, 10)                0         \n",
      "                                                                 \n",
      " batch_normalization_14 (Bat  (None, 10)               40        \n",
      " chNormalization)                                                \n",
      "                                                                 \n",
      " dense_17 (Dense)            (None, 2)                 22        \n",
      "                                                                 \n",
      "=================================================================\n",
      "Total params: 25,886\n",
      "Trainable params: 25,230\n",
      "Non-trainable params: 656\n",
      "_________________________________________________________________\n"
     ]
    }
   ],
   "source": [
    "dnnModel.summary()"
   ]
  },
  {
   "cell_type": "code",
   "execution_count": 90,
   "id": "136e0280",
   "metadata": {},
   "outputs": [
    {
     "name": "stdout",
     "output_type": "stream",
     "text": [
      "Epoch 1/100\n",
      "23/23 [==============================] - 4s 32ms/step - loss: 0.8719 - Accuracy: 0.4958\n",
      "Epoch 2/100\n",
      "23/23 [==============================] - 1s 32ms/step - loss: 0.7880 - Accuracy: 0.5843\n",
      "Epoch 3/100\n",
      "23/23 [==============================] - 1s 31ms/step - loss: 0.7106 - Accuracy: 0.6180\n",
      "Epoch 4/100\n",
      "23/23 [==============================] - 1s 32ms/step - loss: 0.7023 - Accuracy: 0.6081\n",
      "Epoch 5/100\n",
      "23/23 [==============================] - 1s 33ms/step - loss: 0.6796 - Accuracy: 0.6475\n",
      "Epoch 6/100\n",
      "23/23 [==============================] - 1s 33ms/step - loss: 0.6248 - Accuracy: 0.6770\n",
      "Epoch 7/100\n",
      "23/23 [==============================] - 1s 32ms/step - loss: 0.6101 - Accuracy: 0.6742\n",
      "Epoch 8/100\n",
      "23/23 [==============================] - 1s 33ms/step - loss: 0.6428 - Accuracy: 0.6868\n",
      "Epoch 9/100\n",
      "23/23 [==============================] - 1s 33ms/step - loss: 0.6143 - Accuracy: 0.6910\n",
      "Epoch 10/100\n",
      "23/23 [==============================] - 1s 33ms/step - loss: 0.6324 - Accuracy: 0.6770\n",
      "Epoch 11/100\n",
      "23/23 [==============================] - 1s 35ms/step - loss: 0.5789 - Accuracy: 0.7121\n",
      "Epoch 12/100\n",
      "23/23 [==============================] - 1s 33ms/step - loss: 0.5744 - Accuracy: 0.7093\n",
      "Epoch 13/100\n",
      "23/23 [==============================] - 1s 33ms/step - loss: 0.5713 - Accuracy: 0.7191\n",
      "Epoch 14/100\n",
      "23/23 [==============================] - 1s 32ms/step - loss: 0.5715 - Accuracy: 0.6994\n",
      "Epoch 15/100\n",
      "23/23 [==============================] - 1s 34ms/step - loss: 0.5567 - Accuracy: 0.7107\n",
      "Epoch 16/100\n",
      "23/23 [==============================] - 1s 33ms/step - loss: 0.5783 - Accuracy: 0.7317\n",
      "Epoch 17/100\n",
      "23/23 [==============================] - 1s 34ms/step - loss: 0.5800 - Accuracy: 0.7205\n",
      "Epoch 18/100\n",
      "23/23 [==============================] - 1s 34ms/step - loss: 0.5592 - Accuracy: 0.7261\n",
      "Epoch 19/100\n",
      "23/23 [==============================] - 1s 37ms/step - loss: 0.5464 - Accuracy: 0.7388\n",
      "Epoch 20/100\n",
      "23/23 [==============================] - 1s 34ms/step - loss: 0.5522 - Accuracy: 0.7331\n",
      "Epoch 21/100\n",
      "23/23 [==============================] - 1s 33ms/step - loss: 0.5526 - Accuracy: 0.7402\n",
      "Epoch 22/100\n",
      "23/23 [==============================] - 1s 33ms/step - loss: 0.5421 - Accuracy: 0.7570\n",
      "Epoch 23/100\n",
      "23/23 [==============================] - 1s 35ms/step - loss: 0.5287 - Accuracy: 0.7570\n",
      "Epoch 24/100\n",
      "23/23 [==============================] - 1s 37ms/step - loss: 0.5598 - Accuracy: 0.7486\n",
      "Epoch 25/100\n",
      "23/23 [==============================] - 1s 37ms/step - loss: 0.5549 - Accuracy: 0.7542\n",
      "Epoch 26/100\n",
      "23/23 [==============================] - 1s 35ms/step - loss: 0.5133 - Accuracy: 0.7556\n",
      "Epoch 27/100\n",
      "23/23 [==============================] - 1s 34ms/step - loss: 0.5212 - Accuracy: 0.7809\n",
      "Epoch 28/100\n",
      "23/23 [==============================] - 1s 35ms/step - loss: 0.5152 - Accuracy: 0.7795\n",
      "Epoch 29/100\n",
      "23/23 [==============================] - 1s 34ms/step - loss: 0.5056 - Accuracy: 0.7654\n",
      "Epoch 30/100\n",
      "23/23 [==============================] - 1s 36ms/step - loss: 0.5074 - Accuracy: 0.7697\n",
      "Epoch 31/100\n",
      "23/23 [==============================] - 1s 33ms/step - loss: 0.5066 - Accuracy: 0.7767\n",
      "Epoch 32/100\n",
      "23/23 [==============================] - 1s 34ms/step - loss: 0.5352 - Accuracy: 0.7584\n",
      "Epoch 33/100\n",
      "23/23 [==============================] - 1s 36ms/step - loss: 0.5152 - Accuracy: 0.7669\n",
      "Epoch 34/100\n",
      "23/23 [==============================] - 1s 34ms/step - loss: 0.4911 - Accuracy: 0.7879\n",
      "Epoch 35/100\n",
      "23/23 [==============================] - 1s 35ms/step - loss: 0.5121 - Accuracy: 0.7767\n",
      "Epoch 36/100\n",
      "23/23 [==============================] - 1s 38ms/step - loss: 0.5151 - Accuracy: 0.7626\n",
      "Epoch 37/100\n",
      "23/23 [==============================] - 1s 34ms/step - loss: 0.4900 - Accuracy: 0.7921\n",
      "Epoch 38/100\n",
      "23/23 [==============================] - 1s 35ms/step - loss: 0.4810 - Accuracy: 0.7879\n",
      "Epoch 39/100\n",
      "23/23 [==============================] - 1s 35ms/step - loss: 0.5018 - Accuracy: 0.7711\n",
      "Epoch 40/100\n",
      "23/23 [==============================] - 1s 33ms/step - loss: 0.4906 - Accuracy: 0.7823\n",
      "Epoch 41/100\n",
      "23/23 [==============================] - 1s 33ms/step - loss: 0.4885 - Accuracy: 0.7893\n",
      "Epoch 42/100\n",
      "23/23 [==============================] - 1s 33ms/step - loss: 0.5051 - Accuracy: 0.7781\n",
      "Epoch 43/100\n",
      "23/23 [==============================] - 1s 34ms/step - loss: 0.4890 - Accuracy: 0.7837\n",
      "Epoch 44/100\n",
      "23/23 [==============================] - 1s 32ms/step - loss: 0.5009 - Accuracy: 0.7781\n",
      "Epoch 45/100\n",
      "23/23 [==============================] - 1s 32ms/step - loss: 0.4818 - Accuracy: 0.7992\n",
      "Epoch 46/100\n",
      "23/23 [==============================] - 1s 36ms/step - loss: 0.4795 - Accuracy: 0.7992\n",
      "Epoch 47/100\n",
      "23/23 [==============================] - 1s 37ms/step - loss: 0.4744 - Accuracy: 0.7781\n",
      "Epoch 48/100\n",
      "23/23 [==============================] - 1s 33ms/step - loss: 0.4839 - Accuracy: 0.7893\n",
      "Epoch 49/100\n",
      "23/23 [==============================] - 1s 35ms/step - loss: 0.4987 - Accuracy: 0.7809\n",
      "Epoch 50/100\n",
      "23/23 [==============================] - 1s 32ms/step - loss: 0.4919 - Accuracy: 0.7851\n",
      "Epoch 51/100\n",
      "23/23 [==============================] - 1s 34ms/step - loss: 0.5075 - Accuracy: 0.7851\n",
      "Epoch 52/100\n",
      "23/23 [==============================] - 1s 32ms/step - loss: 0.4790 - Accuracy: 0.7865\n",
      "Epoch 53/100\n",
      "23/23 [==============================] - 1s 35ms/step - loss: 0.4736 - Accuracy: 0.7978\n",
      "Epoch 54/100\n",
      "23/23 [==============================] - 1s 35ms/step - loss: 0.4763 - Accuracy: 0.7978\n",
      "Epoch 55/100\n",
      "23/23 [==============================] - 1s 33ms/step - loss: 0.4690 - Accuracy: 0.7992\n",
      "Epoch 56/100\n",
      "23/23 [==============================] - 1s 36ms/step - loss: 0.4645 - Accuracy: 0.7992\n",
      "Epoch 57/100\n",
      "23/23 [==============================] - 1s 32ms/step - loss: 0.4845 - Accuracy: 0.8076\n",
      "Epoch 58/100\n",
      "23/23 [==============================] - 1s 34ms/step - loss: 0.4946 - Accuracy: 0.7963\n",
      "Epoch 59/100\n",
      "23/23 [==============================] - 1s 32ms/step - loss: 0.4685 - Accuracy: 0.8118\n",
      "Epoch 60/100\n",
      "23/23 [==============================] - 1s 35ms/step - loss: 0.4622 - Accuracy: 0.8076\n",
      "Epoch 61/100\n",
      "23/23 [==============================] - 1s 34ms/step - loss: 0.4734 - Accuracy: 0.7963\n",
      "Epoch 62/100\n",
      "23/23 [==============================] - 1s 35ms/step - loss: 0.4558 - Accuracy: 0.8034\n",
      "Epoch 63/100\n",
      "23/23 [==============================] - 1s 33ms/step - loss: 0.4897 - Accuracy: 0.7921\n",
      "Epoch 64/100\n",
      "23/23 [==============================] - 1s 34ms/step - loss: 0.4748 - Accuracy: 0.7921\n",
      "Epoch 65/100\n",
      "23/23 [==============================] - 1s 31ms/step - loss: 0.4714 - Accuracy: 0.7865\n",
      "Epoch 66/100\n",
      "23/23 [==============================] - 1s 29ms/step - loss: 0.4803 - Accuracy: 0.7963\n",
      "Epoch 67/100\n",
      "23/23 [==============================] - 1s 32ms/step - loss: 0.4882 - Accuracy: 0.7851\n",
      "Epoch 68/100\n",
      "23/23 [==============================] - 1s 31ms/step - loss: 0.4946 - Accuracy: 0.7781\n",
      "Epoch 69/100\n",
      "23/23 [==============================] - 1s 32ms/step - loss: 0.4691 - Accuracy: 0.8034\n",
      "Epoch 70/100\n",
      "23/23 [==============================] - 1s 33ms/step - loss: 0.4961 - Accuracy: 0.7978\n",
      "Epoch 71/100\n",
      "23/23 [==============================] - 1s 33ms/step - loss: 0.4943 - Accuracy: 0.7935\n",
      "Epoch 72/100\n",
      "23/23 [==============================] - 1s 32ms/step - loss: 0.4853 - Accuracy: 0.7879\n",
      "Epoch 73/100\n",
      "23/23 [==============================] - 1s 30ms/step - loss: 0.4694 - Accuracy: 0.8090\n",
      "Epoch 74/100\n",
      "23/23 [==============================] - 1s 30ms/step - loss: 0.4747 - Accuracy: 0.7921\n",
      "Epoch 75/100\n",
      "23/23 [==============================] - 1s 29ms/step - loss: 0.4575 - Accuracy: 0.8244\n",
      "Epoch 76/100\n",
      "23/23 [==============================] - 1s 30ms/step - loss: 0.4808 - Accuracy: 0.7978\n",
      "Epoch 77/100\n",
      "23/23 [==============================] - 1s 28ms/step - loss: 0.4604 - Accuracy: 0.7992\n",
      "Epoch 78/100\n",
      "23/23 [==============================] - 1s 28ms/step - loss: 0.4708 - Accuracy: 0.7949\n",
      "Epoch 79/100\n",
      "23/23 [==============================] - 1s 28ms/step - loss: 0.4610 - Accuracy: 0.8090\n",
      "Epoch 80/100\n",
      "23/23 [==============================] - 1s 28ms/step - loss: 0.4708 - Accuracy: 0.8048\n",
      "Epoch 81/100\n",
      "23/23 [==============================] - 1s 31ms/step - loss: 0.4737 - Accuracy: 0.8076\n",
      "Epoch 82/100\n"
     ]
    },
    {
     "name": "stdout",
     "output_type": "stream",
     "text": [
      "23/23 [==============================] - 1s 28ms/step - loss: 0.4574 - Accuracy: 0.8062\n",
      "Epoch 83/100\n",
      "23/23 [==============================] - 1s 29ms/step - loss: 0.4461 - Accuracy: 0.8062\n",
      "Epoch 84/100\n",
      "23/23 [==============================] - 1s 27ms/step - loss: 0.4770 - Accuracy: 0.7921\n",
      "Epoch 85/100\n",
      "23/23 [==============================] - 1s 28ms/step - loss: 0.4696 - Accuracy: 0.8104\n",
      "Epoch 86/100\n",
      "23/23 [==============================] - 1s 28ms/step - loss: 0.4724 - Accuracy: 0.8062\n",
      "Epoch 87/100\n",
      "23/23 [==============================] - 1s 27ms/step - loss: 0.4438 - Accuracy: 0.7992\n",
      "Epoch 88/100\n",
      "23/23 [==============================] - 1s 27ms/step - loss: 0.4431 - Accuracy: 0.8146\n",
      "Epoch 89/100\n",
      "23/23 [==============================] - 1s 28ms/step - loss: 0.4532 - Accuracy: 0.8132\n",
      "Epoch 90/100\n",
      "23/23 [==============================] - 1s 28ms/step - loss: 0.4564 - Accuracy: 0.8188\n",
      "Epoch 91/100\n",
      "23/23 [==============================] - 1s 28ms/step - loss: 0.4650 - Accuracy: 0.8006\n",
      "Epoch 92/100\n",
      "23/23 [==============================] - 1s 28ms/step - loss: 0.4792 - Accuracy: 0.7978\n",
      "Epoch 93/100\n",
      "23/23 [==============================] - 1s 29ms/step - loss: 0.4537 - Accuracy: 0.8174\n",
      "Epoch 94/100\n",
      "23/23 [==============================] - 1s 29ms/step - loss: 0.4553 - Accuracy: 0.7992\n",
      "Epoch 95/100\n",
      "23/23 [==============================] - 1s 30ms/step - loss: 0.4331 - Accuracy: 0.8174\n",
      "Epoch 96/100\n",
      "23/23 [==============================] - 1s 29ms/step - loss: 0.4729 - Accuracy: 0.8160\n",
      "Epoch 97/100\n",
      "23/23 [==============================] - 1s 29ms/step - loss: 0.4577 - Accuracy: 0.8090\n",
      "Epoch 98/100\n",
      "23/23 [==============================] - 1s 28ms/step - loss: 0.4555 - Accuracy: 0.8076\n",
      "Epoch 99/100\n",
      "23/23 [==============================] - 1s 28ms/step - loss: 0.4584 - Accuracy: 0.7978\n",
      "Epoch 100/100\n",
      "23/23 [==============================] - 1s 28ms/step - loss: 0.4487 - Accuracy: 0.8146\n"
     ]
    },
    {
     "data": {
      "text/plain": [
       "<keras.callbacks.History at 0x256df767940>"
      ]
     },
     "execution_count": 90,
     "metadata": {},
     "output_type": "execute_result"
    }
   ],
   "source": [
    "dnnModel.fit(X_trainNormalized,y_train,epochs=100)"
   ]
  },
  {
   "cell_type": "code",
   "execution_count": 91,
   "id": "b023817a",
   "metadata": {},
   "outputs": [
    {
     "name": "stdout",
     "output_type": "stream",
     "text": [
      "6/6 - 0s - loss: 0.4037 - Accuracy: 0.8101 - 468ms/epoch - 78ms/step\n",
      "\n",
      "Test Accuracy : 0.8100559115409851\n"
     ]
    }
   ],
   "source": [
    "test_loss , test_acc = dnnModel.evaluate(X_testNormalized,y_test,verbose=2)\n",
    "print('\\nTest Accuracy :',test_acc)"
   ]
  },
  {
   "cell_type": "code",
   "execution_count": 92,
   "id": "d58b95b8",
   "metadata": {},
   "outputs": [
    {
     "name": "stdout",
     "output_type": "stream",
     "text": [
      "6/6 [==============================] - 0s 5ms/step\n"
     ]
    }
   ],
   "source": [
    "y_pred = np.argmax(dnnModel.predict(X_test), axis=-1)"
   ]
  },
  {
   "cell_type": "code",
   "execution_count": 114,
   "id": "97116646",
   "metadata": {},
   "outputs": [
    {
     "name": "stdout",
     "output_type": "stream",
     "text": [
      "Index :  39 Actual value :  0 Predicted :  0\n"
     ]
    }
   ],
   "source": [
    "idx = np.random.randint(1,len(y_test))\n",
    "print('Index : ',idx,'Actual value : ',y_test[idx],'Predicted : ',y_pred[idx])"
   ]
  },
  {
   "cell_type": "code",
   "execution_count": 108,
   "id": "70063588",
   "metadata": {},
   "outputs": [
    {
     "name": "stdout",
     "output_type": "stream",
     "text": [
      "6/6 [==============================] - 0s 5ms/step\n"
     ]
    },
    {
     "data": {
      "text/plain": [
       "(179, 2)"
      ]
     },
     "execution_count": 108,
     "metadata": {},
     "output_type": "execute_result"
    }
   ],
   "source": [
    "dnnModel.predict(X_test).shape"
   ]
  },
  {
   "cell_type": "code",
   "execution_count": null,
   "id": "3ea78464",
   "metadata": {},
   "outputs": [],
   "source": []
  }
 ],
 "metadata": {
  "kernelspec": {
   "display_name": "Python 3 (ipykernel)",
   "language": "python",
   "name": "python3"
  },
  "language_info": {
   "codemirror_mode": {
    "name": "ipython",
    "version": 3
   },
   "file_extension": ".py",
   "mimetype": "text/x-python",
   "name": "python",
   "nbconvert_exporter": "python",
   "pygments_lexer": "ipython3",
   "version": "3.8.16"
  }
 },
 "nbformat": 4,
 "nbformat_minor": 5
}
